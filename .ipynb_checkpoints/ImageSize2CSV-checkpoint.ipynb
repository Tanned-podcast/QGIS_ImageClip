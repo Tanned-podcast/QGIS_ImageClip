{
 "cells": [
  {
   "cell_type": "code",
   "execution_count": 15,
   "id": "c65ece68-a693-4d42-bf99-8844286498d3",
   "metadata": {},
   "outputs": [
    {
     "name": "stdout",
     "output_type": "stream",
     "text": [
      "<bound method NDFrame.head of        name  length  width\n",
      "0    a1.png    7346   7851\n",
      "1   a10.png    7346   7858\n",
      "2   a11.png    7346   7858\n",
      "3   a12.png    7346   7858\n",
      "4   a13.png    7346   7861\n",
      "5   a14.png    7346   7861\n",
      "6   a15.png    7346   7861\n",
      "7   a16.png    7346   7861\n",
      "8    a2.png    7346   7851\n",
      "9    a3.png    7346   7851\n",
      "10   a4.png    7346   7851\n",
      "11   a5.png    7346   7854\n",
      "12   a6.png    7346   7854\n",
      "13   a7.png    7346   7854\n",
      "14   a8.png    7346   7854\n",
      "15   a9.png    7346   7858\n",
      "16   b1.png    7332   7390\n",
      "17  b10.png    7332   7399\n",
      "18  b11.png    7332   7403\n",
      "19  b12.png    7332   7406\n",
      "20   b2.png    7332   7393\n",
      "21   b3.png    7332   7396\n",
      "22   b4.png    7332   7399\n",
      "23   b5.png    7332   7403\n",
      "24   b6.png    7332   7406\n",
      "25   b7.png    7332   7390\n",
      "26   b8.png    7332   7393\n",
      "27   b9.png    7332   7396\n",
      "28   c1.png    5090   6907\n",
      "29   c2.png    5090   6910\n",
      "30   c3.png    5090   6912\n",
      "31   c4.png    5090   6915\n",
      "32   c5.png    5090   6907\n",
      "33   c6.png    5090   6910\n",
      "34   c7.png    5090   6912\n",
      "35   c8.png    5090   6915>\n",
      "csv saved!\n"
     ]
    }
   ],
   "source": [
    "#画像を読み込んでそのサイズを取得し，対応させる四隅の座標のCSVをもらってGCPファイルを作る\n",
    "from PIL import Image\n",
    "import pandas as pd\n",
    "import glob\n",
    "from  pathlib import Path\n",
    "import numpy as np\n",
    "\n",
    "date='0117'\n",
    "\n",
    "csvpath=str(Path(r'./'+date+r'/imagesizes.csv'))\n",
    "\n",
    "# 画像を読み込む\n",
    "path=str(Path(r'./'+date+r'/LargePNG'))\n",
    "imglist=list(Path(path).glob(\"*\"))\n",
    "\n",
    "namelist=[]\n",
    "widthlist=[]\n",
    "lengthlist=[]\n",
    "\n",
    "for img in imglist:\n",
    "    image = Image.open(img)\n",
    "    namelist.append(str(img).split(\"\\\\\")[-1])\n",
    "    widthlist.append(image.size[0])\n",
    "    lengthlist.append(image.size[1])\n",
    "\n",
    "df=pd.DataFrame({'name': namelist, 'width': widthlist, 'length': lengthlist})\n",
    "print(df.head)\n",
    "df.to_csv(csvpath)\n",
    "print(\"csv saved!\")"
   ]
  }
 ],
 "metadata": {
  "kernelspec": {
   "display_name": "Python 3 (ipykernel)",
   "language": "python",
   "name": "python3"
  },
  "language_info": {
   "codemirror_mode": {
    "name": "ipython",
    "version": 3
   },
   "file_extension": ".py",
   "mimetype": "text/x-python",
   "name": "python",
   "nbconvert_exporter": "python",
   "pygments_lexer": "ipython3",
   "version": "3.11.8"
  }
 },
 "nbformat": 4,
 "nbformat_minor": 5
}
