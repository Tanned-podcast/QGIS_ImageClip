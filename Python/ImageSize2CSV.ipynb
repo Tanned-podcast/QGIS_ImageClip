{
 "cells": [
  {
   "cell_type": "code",
   "execution_count": 4,
   "id": "c65ece68-a693-4d42-bf99-8844286498d3",
   "metadata": {},
   "outputs": [
    {
     "name": "stdout",
     "output_type": "stream",
     "text": [
      "<bound method NDFrame.head of        name  width  length\n",
      "0    n1.png   6882    8616\n",
      "1    n2.png   6882    8620\n",
      "2    n3.png   6882    8624\n",
      "3    o1.png   6267    7514\n",
      "4    o2.png   6267    7514\n",
      "5    o3.png   6267    7517\n",
      "6    o4.png   6267    7517\n",
      "7    o5.png   6267    7520\n",
      "8    o6.png   6267    7520\n",
      "9    o7.png   6267    7524\n",
      "10   o8.png   6267    7524\n",
      "11   p1.png   8378    8356\n",
      "12   p2.png   8378    8360\n",
      "13   p3.png   8378    8364\n",
      "14   p4.png   8378    8368\n",
      "15   q1.png   6310    8151\n",
      "16   q2.png   6310    8151\n",
      "17   q3.png   6310    8155\n",
      "18   q4.png   6310    8155\n",
      "19   q5.png   6310    8159\n",
      "20   q6.png   6310    8159\n",
      "21   q7.png   6310    8163\n",
      "22   q8.png   6310    8163\n",
      "23   r1.png   7002    7361\n",
      "24  r10.png   7002    7371\n",
      "25  r11.png   7002    7371\n",
      "26  r12.png   7002    7371\n",
      "27  r13.png   7002    7374\n",
      "28  r14.png   7002    7374\n",
      "29  r15.png   7002    7374\n",
      "30   r2.png   7002    7361\n",
      "31   r3.png   7002    7361\n",
      "32   r4.png   7002    7364\n",
      "33   r5.png   7002    7364\n",
      "34   r6.png   7002    7364\n",
      "35   r7.png   7002    7367\n",
      "36   r8.png   7002    7367\n",
      "37   r9.png   7002    7367\n",
      "38   s1.png   5730    7662\n",
      "39   s2.png   5730    7662\n",
      "40   s3.png   5730    7665\n",
      "41   s4.png   5730    7665\n",
      "42   s5.png   5730    7669\n",
      "43   s6.png   5730    7669>\n",
      "csv saved!\n"
     ]
    }
   ],
   "source": [
    "#画像を読み込んでそのサイズを取得し，対応させる四隅の座標のCSVをもらってGCPファイルを作る\n",
    "from PIL import Image\n",
    "import pandas as pd\n",
    "import glob\n",
    "from  pathlib import Path\n",
    "import numpy as np\n",
    "\n",
    "date='0102'\n",
    "\n",
    "csvpath=str(Path(r'../'+date+r'/imagesizes.csv'))\n",
    "\n",
    "# 画像を読み込む\n",
    "path=str(Path(r'../'+date+r'/LargePNG'))\n",
    "imglist=list(Path(path).glob(\"*\"))\n",
    "\n",
    "namelist=[]\n",
    "widthlist=[]\n",
    "lengthlist=[]\n",
    "\n",
    "for img in imglist:\n",
    "    image = Image.open(img)\n",
    "    namelist.append(str(img).split(\"\\\\\")[-1])\n",
    "    widthlist.append(image.size[0])\n",
    "    lengthlist.append(image.size[1])\n",
    "\n",
    "df=pd.DataFrame({'name': namelist, 'width': widthlist, 'length': lengthlist})\n",
    "print(df.head)\n",
    "df.to_csv(csvpath)\n",
    "print(\"csv saved!\")"
   ]
  },
  {
   "cell_type": "code",
   "execution_count": null,
   "id": "159c01a1-50ec-42b6-8680-bf384e6dcb51",
   "metadata": {},
   "outputs": [],
   "source": []
  }
 ],
 "metadata": {
  "kernelspec": {
   "display_name": "pytorch_env",
   "language": "python",
   "name": "python3"
  },
  "language_info": {
   "codemirror_mode": {
    "name": "ipython",
    "version": 3
   },
   "file_extension": ".py",
   "mimetype": "text/x-python",
   "name": "python",
   "nbconvert_exporter": "python",
   "pygments_lexer": "ipython3",
   "version": "3.11.8"
  }
 },
 "nbformat": 4,
 "nbformat_minor": 5
}
