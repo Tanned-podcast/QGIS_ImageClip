{
 "cells": [
  {
   "cell_type": "code",
   "execution_count": 1,
   "id": "c65ece68-a693-4d42-bf99-8844286498d3",
   "metadata": {},
   "outputs": [
    {
     "name": "stdout",
     "output_type": "stream",
     "text": [
      "<bound method NDFrame.head of        name  width  length\n",
      "0    d1.png   6459    5523\n",
      "1    d2.png   6459    5523\n",
      "2    d3.png   6459    5523\n",
      "3    d4.png   6459    5523\n",
      "4    d5.png   6459    5523\n",
      "5    e1.png   7011    7159\n",
      "6   e10.png   7011    7162\n",
      "7   e11.png   7011    7162\n",
      "8   e12.png   7011    7162\n",
      "9   e13.png   7011    7165\n",
      "10  e14.png   7011    7165\n",
      "11  e15.png   7011    7165\n",
      "12  e16.png   7011    7165\n",
      "13  e17.png   7011    7165\n",
      "14  e18.png   7011    7165\n",
      "15   e2.png   7011    7159\n",
      "16   e3.png   7011    7159\n",
      "17   e4.png   7011    7159\n",
      "18   e5.png   7011    7159\n",
      "19   e6.png   7011    7159\n",
      "20   e7.png   7011    7162\n",
      "21   e8.png   7011    7162\n",
      "22   e9.png   7011    7162\n",
      "23   f1.png   6311    7609\n",
      "24   f2.png   6311    7612\n",
      "25   f3.png   6311    7615\n",
      "26   f4.png   6311    7609\n",
      "27   f5.png   6311    7612\n",
      "28   f6.png   6311    7615>\n",
      "csv saved!\n"
     ]
    }
   ],
   "source": [
    "#画像を読み込んでそのサイズを取得し，対応させる四隅の座標のCSVをもらってGCPファイルを作る\n",
    "from PIL import Image\n",
    "import pandas as pd\n",
    "import glob\n",
    "from  pathlib import Path\n",
    "import numpy as np\n",
    "\n",
    "date='0117'\n",
    "\n",
    "csvpath=str(Path(r'./'+date+r'/imagesizes.csv'))\n",
    "\n",
    "# 画像を読み込む\n",
    "path=str(Path(r'./'+date+r'/LargePNG'))\n",
    "imglist=list(Path(path).glob(\"*\"))\n",
    "\n",
    "namelist=[]\n",
    "widthlist=[]\n",
    "lengthlist=[]\n",
    "\n",
    "for img in imglist:\n",
    "    image = Image.open(img)\n",
    "    namelist.append(str(img).split(\"\\\\\")[-1])\n",
    "    widthlist.append(image.size[0])\n",
    "    lengthlist.append(image.size[1])\n",
    "\n",
    "df=pd.DataFrame({'name': namelist, 'width': widthlist, 'length': lengthlist})\n",
    "print(df.head)\n",
    "df.to_csv(csvpath)\n",
    "print(\"csv saved!\")"
   ]
  },
  {
   "cell_type": "code",
   "execution_count": null,
   "id": "159c01a1-50ec-42b6-8680-bf384e6dcb51",
   "metadata": {},
   "outputs": [],
   "source": []
  }
 ],
 "metadata": {
  "kernelspec": {
   "display_name": "Python 3 (ipykernel)",
   "language": "python",
   "name": "python3"
  },
  "language_info": {
   "codemirror_mode": {
    "name": "ipython",
    "version": 3
   },
   "file_extension": ".py",
   "mimetype": "text/x-python",
   "name": "python",
   "nbconvert_exporter": "python",
   "pygments_lexer": "ipython3",
   "version": "3.11.8"
  }
 },
 "nbformat": 4,
 "nbformat_minor": 5
}
